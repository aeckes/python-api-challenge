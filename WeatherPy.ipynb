{
 "cells": [
  {
   "cell_type": "markdown",
   "metadata": {},
   "source": [
    "# WeatherPy\n",
    "----\n",
    "\n",
    "#### Note\n",
    "* Instructions have been included for each segment. You do not have to follow them exactly, but they are included to help you think through the steps."
   ]
  },
  {
   "cell_type": "code",
   "execution_count": 43,
   "metadata": {
    "scrolled": true
   },
   "outputs": [],
   "source": [
    "# Dependencies and Setup\n",
    "import matplotlib.pyplot as plt\n",
    "import pandas as pd\n",
    "import numpy as np\n",
    "import requests\n",
    "import time\n",
    "import json\n",
    "\n",
    "# Import API key\n",
    "from api_keys import api_key\n",
    "\n",
    "# Incorporated citipy to determine city based on latitude and longitude\n",
    "\n",
    "from citipy import citipy\n",
    "\n",
    "# Output File (CSV)\n",
    "output_data_file = \"output_data/cities.csv\"\n",
    "\n",
    "# Range of latitudes and longitudes\n",
    "lat_range = (-90, 90)\n",
    "lng_range = (-180, 180)"
   ]
  },
  {
   "cell_type": "markdown",
   "metadata": {},
   "source": [
    "## Generate Cities List"
   ]
  },
  {
   "cell_type": "code",
   "execution_count": 68,
   "metadata": {},
   "outputs": [
    {
     "data": {
      "text/plain": [
       "601"
      ]
     },
     "execution_count": 68,
     "metadata": {},
     "output_type": "execute_result"
    }
   ],
   "source": [
    "# List for holding lat_lngs and cities\n",
    "lat_lngs = []\n",
    "cities = []\n",
    "\n",
    "# Create a set of random lat and lng combinations\n",
    "lats = np.random.uniform(low=-90.000, high=90.000, size=1500)\n",
    "lngs = np.random.uniform(low=-180.000, high=180.000, size=1500)\n",
    "lat_lngs = zip(lats, lngs)\n",
    "\n",
    "# Identify nearest city for each lat, lng combination\n",
    "for lat_lng in lat_lngs:\n",
    "    city = citipy.nearest_city(lat_lng[0], lat_lng[1]).city_name\n",
    "    \n",
    "    # If the city is unique, then add it to a our cities list\n",
    "    if city not in cities:\n",
    "        cities.append(city)\n",
    "\n",
    "# Print the city count to confirm sufficient count\n",
    "len(cities)\n"
   ]
  },
  {
   "cell_type": "markdown",
   "metadata": {},
   "source": [
    "### Perform API Calls\n",
    "* Perform a weather check on each city using a series of successive API calls.\n",
    "* Include a print log of each city as it'sbeing processed (with the city number and city name).\n"
   ]
  },
  {
   "cell_type": "code",
   "execution_count": 69,
   "metadata": {},
   "outputs": [
    {
     "name": "stdout",
     "output_type": "stream",
     "text": [
      "Making request number: [0] for City: amazar\n",
      "Making request number: [1] for City: oliveira dos brejinhos\n",
      "Making request number: [2] for City: chuy\n",
      "Making request number: [3] for City: ushuaia\n",
      "Making request number: [4] for City: alvaraes\n",
      "Making request number: [5] for City: saskylakh\n",
      "Making request number: [6] for City: beringovskiy\n",
      "Making request number: [7] for City: le pradet\n",
      "Making request number: [8] for City: qaanaaq\n",
      "Making request number: [9] for City: punta arenas\n",
      "Making request number: [10] for City: souillac\n",
      "Making request number: [11] for City: hithadhoo\n",
      "Making request number: [12] for City: terrace\n",
      "Making request number: [13] for City: nizhneyansk\n",
      "404: City not found in OpenWeatherMaps\n",
      "\n",
      "Making request number: [14] for City: walvis bay\n",
      "Making request number: [15] for City: salalah\n",
      "Making request number: [16] for City: miracema do tocantins\n",
      "Making request number: [17] for City: tuatapere\n",
      "Making request number: [18] for City: nanortalik\n",
      "Making request number: [19] for City: vaini\n",
      "Making request number: [20] for City: tuktoyaktuk\n",
      "Making request number: [21] for City: taolanaro\n",
      "404: City not found in OpenWeatherMaps\n",
      "\n",
      "Making request number: [22] for City: vao\n",
      "Making request number: [23] for City: caravelas\n",
      "Making request number: [24] for City: tessalit\n",
      "Making request number: [25] for City: kropotkin\n",
      "Making request number: [26] for City: mandalgovi\n",
      "Making request number: [27] for City: rikitea\n",
      "Making request number: [28] for City: chokurdakh\n",
      "Making request number: [29] for City: kapaa\n",
      "Making request number: [30] for City: vestmanna\n",
      "Making request number: [31] for City: tateyama\n",
      "Making request number: [32] for City: saleaula\n",
      "404: City not found in OpenWeatherMaps\n",
      "\n",
      "Making request number: [33] for City: juneau\n",
      "Making request number: [34] for City: mokhsogollokh\n",
      "Making request number: [35] for City: parana\n",
      "Making request number: [36] for City: havre-saint-pierre\n",
      "Making request number: [37] for City: busselton\n",
      "Making request number: [38] for City: barawe\n",
      "404: City not found in OpenWeatherMaps\n",
      "\n",
      "Making request number: [39] for City: mount isa\n",
      "Number of cities found 36\n"
     ]
    }
   ],
   "source": [
    "url = 'http://api.openweathermap.org/data/2.5/weather?'\n",
    "units = 'metric'\n",
    "\n",
    "responses = []\n",
    "lat = []\n",
    "temp = []\n",
    "humidity = []\n",
    "cloudiness = []\n",
    "wind_speed = []\n",
    "city_name = []\n",
    "\n",
    "\n",
    "query_string = f'{url}&appid={api_key}&units=metric&q='\n",
    "\n",
    "for x in range(40): #len(cities)\n",
    "    print(f\"Making request number: {[x]} for City: {cities[x]}\")\n",
    "    post_response = requests.get(query_string + cities[x]).json()\n",
    "    \n",
    "    if post_response['cod'] == '404':\n",
    "        print('404: City not found in OpenWeatherMaps')\n",
    "    \n",
    "    try:\n",
    "        lat.append(post_response['coord']['lat'])\n",
    "        temp.append(post_response['main']['temp'])\n",
    "        humidity.append(post_response['main']['temp'])\n",
    "        cloudiness.append(post_response['clouds']['all'])\n",
    "        city_name.append(post_response['name'])\n",
    "    except:\n",
    "        print(\"\")\n",
    "\n",
    "print(f'Number of cities found {len(city_name)}')"
   ]
  },
  {
   "cell_type": "markdown",
   "metadata": {},
   "source": [
    "### Convert Raw Data to DataFrame\n",
    "* Export the city data into a .csv.\n",
    "* Display the DataFrame"
   ]
  },
  {
   "cell_type": "code",
   "execution_count": 70,
   "metadata": {},
   "outputs": [
    {
     "data": {
      "text/html": [
       "<div>\n",
       "<style scoped>\n",
       "    .dataframe tbody tr th:only-of-type {\n",
       "        vertical-align: middle;\n",
       "    }\n",
       "\n",
       "    .dataframe tbody tr th {\n",
       "        vertical-align: top;\n",
       "    }\n",
       "\n",
       "    .dataframe thead th {\n",
       "        text-align: right;\n",
       "    }\n",
       "</style>\n",
       "<table border=\"1\" class=\"dataframe\">\n",
       "  <thead>\n",
       "    <tr style=\"text-align: right;\">\n",
       "      <th></th>\n",
       "      <th>City</th>\n",
       "      <th>Lat</th>\n",
       "      <th>Temp</th>\n",
       "      <th>Humidity</th>\n",
       "      <th>Cloudyness:</th>\n",
       "    </tr>\n",
       "  </thead>\n",
       "  <tbody>\n",
       "    <tr>\n",
       "      <th>0</th>\n",
       "      <td>Amazar</td>\n",
       "      <td>53.86</td>\n",
       "      <td>5.65</td>\n",
       "      <td>5.65</td>\n",
       "      <td>30</td>\n",
       "    </tr>\n",
       "    <tr>\n",
       "      <th>1</th>\n",
       "      <td>Oliveira dos Brejinhos</td>\n",
       "      <td>-12.32</td>\n",
       "      <td>23.68</td>\n",
       "      <td>23.68</td>\n",
       "      <td>30</td>\n",
       "    </tr>\n",
       "    <tr>\n",
       "      <th>2</th>\n",
       "      <td>Chuy</td>\n",
       "      <td>-33.69</td>\n",
       "      <td>13.17</td>\n",
       "      <td>13.17</td>\n",
       "      <td>0</td>\n",
       "    </tr>\n",
       "    <tr>\n",
       "      <th>3</th>\n",
       "      <td>Ushuaia</td>\n",
       "      <td>-54.81</td>\n",
       "      <td>7.00</td>\n",
       "      <td>7.00</td>\n",
       "      <td>90</td>\n",
       "    </tr>\n",
       "    <tr>\n",
       "      <th>4</th>\n",
       "      <td>Alvaraes</td>\n",
       "      <td>-3.22</td>\n",
       "      <td>24.30</td>\n",
       "      <td>24.30</td>\n",
       "      <td>32</td>\n",
       "    </tr>\n",
       "  </tbody>\n",
       "</table>\n",
       "</div>"
      ],
      "text/plain": [
       "                     City    Lat   Temp  Humidity  Cloudyness:\n",
       "0                  Amazar  53.86   5.65      5.65           30\n",
       "1  Oliveira dos Brejinhos -12.32  23.68     23.68           30\n",
       "2                    Chuy -33.69  13.17     13.17            0\n",
       "3                 Ushuaia -54.81   7.00      7.00           90\n",
       "4                Alvaraes  -3.22  24.30     24.30           32"
      ]
     },
     "execution_count": 70,
     "metadata": {},
     "output_type": "execute_result"
    }
   ],
   "source": [
    "response_dict = {'City': city_name,\n",
    "                 'Lat': lat,\n",
    "                'Temp': temp,\n",
    "                'Humidity': humidity,\n",
    "                'Cloudyness:': cloudiness\n",
    "                }\n",
    "\n",
    "df = pd.DataFrame(response_dict)\n",
    "df.head()"
   ]
  },
  {
   "cell_type": "code",
   "execution_count": null,
   "metadata": {},
   "outputs": [],
   "source": []
  },
  {
   "cell_type": "markdown",
   "metadata": {},
   "source": [
    "### Plotting the Data\n",
    "* Use proper labeling of the plots using plot titles (including date of analysis) and axes labels.\n",
    "* Save the plotted figures as .pngs."
   ]
  },
  {
   "cell_type": "markdown",
   "metadata": {},
   "source": [
    "#### Latitude vs. Temperature Plot"
   ]
  },
  {
   "cell_type": "code",
   "execution_count": null,
   "metadata": {},
   "outputs": [],
   "source": []
  },
  {
   "cell_type": "markdown",
   "metadata": {},
   "source": [
    "#### Latitude vs. Humidity Plot"
   ]
  },
  {
   "cell_type": "code",
   "execution_count": null,
   "metadata": {},
   "outputs": [],
   "source": []
  },
  {
   "cell_type": "markdown",
   "metadata": {},
   "source": [
    "#### Latitude vs. Cloudiness Plot"
   ]
  },
  {
   "cell_type": "code",
   "execution_count": null,
   "metadata": {},
   "outputs": [],
   "source": []
  },
  {
   "cell_type": "markdown",
   "metadata": {},
   "source": [
    "#### Latitude vs. Wind Speed Plot"
   ]
  },
  {
   "cell_type": "code",
   "execution_count": null,
   "metadata": {},
   "outputs": [],
   "source": []
  },
  {
   "cell_type": "code",
   "execution_count": null,
   "metadata": {},
   "outputs": [],
   "source": []
  }
 ],
 "metadata": {
  "anaconda-cloud": {},
  "kernel_info": {
   "name": "python3"
  },
  "kernelspec": {
   "display_name": "Python 3",
   "language": "python",
   "name": "python3"
  },
  "language_info": {
   "codemirror_mode": {
    "name": "ipython",
    "version": 3
   },
   "file_extension": ".py",
   "mimetype": "text/x-python",
   "name": "python",
   "nbconvert_exporter": "python",
   "pygments_lexer": "ipython3",
   "version": "3.6.8"
  },
  "nteract": {
   "version": "0.12.3"
  }
 },
 "nbformat": 4,
 "nbformat_minor": 2
}
